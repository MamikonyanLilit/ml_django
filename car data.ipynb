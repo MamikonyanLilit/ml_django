{
 "cells": [
  {
   "cell_type": "code",
   "execution_count": 53,
   "id": "f8d36c7d",
   "metadata": {},
   "outputs": [],
   "source": [
    "import numpy as np\n",
    "import pandas as pd\n",
    "import seaborn as sns\n",
    "import matplotlib.pyplot as plt\n",
    "from sklearn.model_selection import train_test_split , GridSearchCV\n",
    "from sklearn.preprocessing import StandardScaler , MaxAbsScaler , MinMaxScaler \n",
    "from sklearn.metrics import accuracy_score , classification_report , confusion_matrix\n",
    "from sklearn.svm import SVC\n",
    "from sklearn.tree import DecisionTreeClassifier\n",
    "from sklearn.linear_model import LogisticRegression , LogisticRegressionCV\n",
    "from sklearn.ensemble import RandomForestClassifier\n",
    "import warnings\n",
    "import scipy\n",
    "from sklearn.preprocessing import OrdinalEncoder\n",
    "encoder=OrdinalEncoder()"
   ]
  },
  {
   "cell_type": "code",
   "execution_count": 54,
   "id": "2eafa325",
   "metadata": {},
   "outputs": [],
   "source": [
    "df=pd.read_csv('auto_train.csv')"
   ]
  },
  {
   "cell_type": "code",
   "execution_count": 55,
   "id": "2ddf9539",
   "metadata": {},
   "outputs": [],
   "source": [
    "df = df.drop(df[df['Price'] == 'Պայմ.'].index)\n",
    "df.drop(4990, inplace=True)"
   ]
  },
  {
   "cell_type": "markdown",
   "id": "37527e3a",
   "metadata": {},
   "source": [
    "# PRICE "
   ]
  },
  {
   "cell_type": "code",
   "execution_count": 4,
   "id": "f6decba4",
   "metadata": {},
   "outputs": [],
   "source": [
    "dollar_indexes=df.index[df['Price'].str.contains('\\֏')]\n",
    "euro_indexes=df.index[df['Price'].str.contains('\\€')]\n",
    "df['Price'] = df['Price'].str.replace('$', '')\n",
    "df['Price'] = df['Price'].str.replace('֏', '')\n",
    "df['Price'] = df['Price'].str.replace('€', '')\n",
    "df['Price'] = df['Price'].str.replace(' ', '')\n",
    "df['Price'] = df['Price'].astype('int64')\n",
    "dram_to_tollar=385.88\n",
    "for i in dollar_indexes:\n",
    "    df.loc[i,'Price']= df.loc[i,'Price']/dram_to_tollar\n",
    "dram_to_euro=420.61\n",
    "for m in euro_indexes:\n",
    "    df.loc[m,'Price']= df.loc[m,'Price']/dram_to_euro"
   ]
  },
  {
   "cell_type": "markdown",
   "id": "692cb04b",
   "metadata": {},
   "source": [
    "#  Mileage"
   ]
  },
  {
   "cell_type": "code",
   "execution_count": 5,
   "id": "4ce0fa05",
   "metadata": {},
   "outputs": [],
   "source": [
    "def improve_Milage(x , mile=scipy.constants.mile/1000):\n",
    "    x = x.strip()\n",
    "    if \"մղոն\" in x:\n",
    "        x = x.strip(\"մղոն\")\n",
    "        return int(x.strip())*mile\n",
    "    elif \"կմ\" in x:\n",
    "        x = x.strip(\"կմ\")\n",
    "        return int(x.strip())\n",
    "    else:\n",
    "        return np.nan"
   ]
  },
  {
   "cell_type": "code",
   "execution_count": 6,
   "id": "00b966ee",
   "metadata": {},
   "outputs": [],
   "source": [
    "df[\"Mileage\"] = df[\"Mileage\"].apply(improve_Milage)"
   ]
  },
  {
   "cell_type": "markdown",
   "id": "784d300e",
   "metadata": {},
   "source": [
    "# Model"
   ]
  },
  {
   "cell_type": "code",
   "execution_count": 7,
   "id": "c9ea9130",
   "metadata": {},
   "outputs": [],
   "source": [
    "df['Model'] = df['Model'].apply(lambda x: x.strip() if isinstance(x, str) else x)"
   ]
  },
  {
   "cell_type": "code",
   "execution_count": 8,
   "id": "15307981",
   "metadata": {},
   "outputs": [],
   "source": [
    "ind = df[df[\"Mileage\"].isna()].index"
   ]
  },
  {
   "cell_type": "code",
   "execution_count": 9,
   "id": "2ceb5e43",
   "metadata": {},
   "outputs": [],
   "source": [
    "df.loc[ind , \"Mileage\" ]  = df[df[\"Mileage\"].isna()][\"Model\"].values"
   ]
  },
  {
   "cell_type": "code",
   "execution_count": 10,
   "id": "94c18d42",
   "metadata": {},
   "outputs": [],
   "source": [
    "df.loc[ind , 'Model'] = np.nan"
   ]
  },
  {
   "cell_type": "code",
   "execution_count": 11,
   "id": "35168fe4",
   "metadata": {},
   "outputs": [],
   "source": [
    "df[\"Mileage\"] = df[\"Mileage\"].apply(lambda x : improve_Milage(x) if isinstance(x , str) else x)"
   ]
  },
  {
   "cell_type": "code",
   "execution_count": 12,
   "id": "2ae27550",
   "metadata": {},
   "outputs": [],
   "source": [
    "# Filling missing models\n",
    "df.loc[[3495,314,1558,1232,1598],'Model']='Accent'\n",
    "df.loc[[4254,2416,5223,5290,3503,815,5723],'Model']='Elantra'\n",
    "df.loc[[3968,1756,1595,3886,4257,3596],'Model']='Sonata'\n",
    "df.loc[[1872,3125,2989,3681],'Model']='Santa Fe'\n",
    "df.loc[[1010],'Model']='Tucson'\n",
    "df.loc[[3670],'Model']='Palisade'\n",
    "df.loc[[5661],'Model']='Forte'\n",
    "df['Body style'] = df['Body style'].fillna('Սեդան')"
   ]
  },
  {
   "cell_type": "markdown",
   "id": "ac7f6534",
   "metadata": {},
   "source": [
    "#  Improving shufled columns"
   ]
  },
  {
   "cell_type": "code",
   "execution_count": 13,
   "id": "fe373640",
   "metadata": {},
   "outputs": [],
   "source": [
    "df.loc[ind , \"Custom cleared\" ]  = df[df[\"Custom cleared\"].isna()][\"Color\"].values\n",
    "df.loc[ind , 'Color'] = np.nan\n",
    "df.loc[ind ,\"Color\"]  = df[df[\"Color\"].isna()][\"Engine\"].values\n",
    "df.loc[ind , 'Engine'] = np.nan\n",
    "df.loc[ind , \"Engine\" ]  = df[df[\"Engine\"].isna()][\"Hand drive\"].values\n",
    "df.loc[ind , 'Hand drive'] = np.nan\n",
    "df.loc[ind , \"Hand drive\" ]  = df[df[\"Hand drive\"].isna()][\"Gearbox\"].values\n",
    "df.loc[ind , 'Gearbox'] = np.nan\n",
    "df.loc[ind , \"Gearbox\" ]  = df[df[\"Gearbox\"].isna()][\"Body style\"].values\n",
    "df.loc[ind , 'Body style'] = np.nan"
   ]
  },
  {
   "cell_type": "markdown",
   "id": "014e379d",
   "metadata": {},
   "source": [
    "# Body Style"
   ]
  },
  {
   "cell_type": "code",
   "execution_count": 14,
   "id": "24647689",
   "metadata": {},
   "outputs": [],
   "source": [
    "df['Body style'] = df['Body style'].apply(lambda x: x.strip() if isinstance(x, str) else x)\n",
    "value_counts = df['Body style'].value_counts()\n",
    "values_to_replace = value_counts[value_counts < 7].index\n",
    "df.loc[df['Body style'].isin(values_to_replace), 'Body style'] = np.nan"
   ]
  },
  {
   "cell_type": "code",
   "execution_count": 15,
   "id": "956019a0",
   "metadata": {},
   "outputs": [],
   "source": [
    "encoded_column = encoder.fit_transform(df[['Body style']])\n",
    "df['Body style'] = encoded_column"
   ]
  },
  {
   "cell_type": "code",
   "execution_count": 16,
   "id": "4042366f",
   "metadata": {},
   "outputs": [],
   "source": [
    "nan_index=df[df['Body style'].isna()].index\n",
    "pred_body=df.loc[:,['Year','Make','Model','Body style']]"
   ]
  },
  {
   "cell_type": "code",
   "execution_count": 17,
   "id": "38eacce1",
   "metadata": {},
   "outputs": [],
   "source": [
    "encoded_column = encoder.fit_transform(pred_body[['Make']])\n",
    "pred_body['Make'] = encoded_column\n",
    "encoded_column = encoder.fit_transform(pred_body[['Model']])\n",
    "pred_body['Model'] = encoded_column"
   ]
  },
  {
   "cell_type": "code",
   "execution_count": 18,
   "id": "23d9e622",
   "metadata": {},
   "outputs": [],
   "source": [
    "test_body=pred_body.loc[nan_index,['Year','Make','Model']]\n",
    "train_body=pred_body.drop(nan_index)"
   ]
  },
  {
   "cell_type": "code",
   "execution_count": 19,
   "id": "56a3f430",
   "metadata": {},
   "outputs": [],
   "source": [
    "from sklearn.ensemble import RandomForestClassifier\n",
    "log_model = RandomForestClassifier()\n",
    "log_model.fit(train_body.drop('Body style',axis=1),train_body['Body style'])\n",
    "b=log_model.predict(test_body)"
   ]
  },
  {
   "cell_type": "code",
   "execution_count": 20,
   "id": "b2152652",
   "metadata": {},
   "outputs": [],
   "source": [
    "df.loc[nan_index , 'Gearbox'] = b"
   ]
  },
  {
   "cell_type": "markdown",
   "id": "8a3586e8",
   "metadata": {},
   "source": [
    "# Improve Gearbox"
   ]
  },
  {
   "cell_type": "code",
   "execution_count": 21,
   "id": "c1310f0d",
   "metadata": {},
   "outputs": [],
   "source": [
    "df['Gearbox'] = df['Gearbox'].apply(lambda x: x.strip() if isinstance(x, str) else x)\n",
    "value_counts = df['Gearbox'].value_counts()\n",
    "values_to_replace = value_counts[value_counts < 12].index\n",
    "df.loc[df['Gearbox'].isin(values_to_replace), 'Gearbox'] = np.nan"
   ]
  },
  {
   "cell_type": "code",
   "execution_count": 22,
   "id": "7ddb2710",
   "metadata": {},
   "outputs": [],
   "source": [
    "def transform_value(value):\n",
    "    if value == 'Ավտոմատ':\n",
    "        return 3\n",
    "    elif value == 'Մեխանիկական':\n",
    "        return 1\n",
    "    elif value == 'Վարիատոր':\n",
    "        return 2\n",
    "    else:\n",
    "        return np.nan\n",
    "df['Gearbox'] = df['Gearbox'].apply(transform_value)"
   ]
  },
  {
   "cell_type": "code",
   "execution_count": 23,
   "id": "e0133911",
   "metadata": {},
   "outputs": [],
   "source": [
    "nan_index=df[df['Gearbox'].isna()].index\n",
    "new=df\n",
    "# new_df = df.drop(nan_index)\n",
    "pred_gear=new.loc[:,['Year','Make','Model','Gearbox']]"
   ]
  },
  {
   "cell_type": "code",
   "execution_count": 24,
   "id": "04b56cb5",
   "metadata": {},
   "outputs": [],
   "source": [
    "encoded_column = encoder.fit_transform(pred_gear[['Make']])\n",
    "pred_gear['Make'] = encoded_column\n",
    "encoded_column = encoder.fit_transform(pred_gear[['Model']])\n",
    "pred_gear['Model'] = encoded_column"
   ]
  },
  {
   "cell_type": "code",
   "execution_count": 25,
   "id": "386290e5",
   "metadata": {},
   "outputs": [],
   "source": [
    "test_gearbox=pred_gear.loc[nan_index,['Year','Make','Model']]\n",
    "train_gearbox=pred_gear.drop(nan_index)"
   ]
  },
  {
   "cell_type": "code",
   "execution_count": 26,
   "id": "ebfed1c4",
   "metadata": {},
   "outputs": [],
   "source": [
    "from sklearn.ensemble import RandomForestClassifier\n",
    "log_model = RandomForestClassifier()\n",
    "log_model.fit(train_gearbox.drop('Gearbox',axis=1),train_gearbox['Gearbox'])\n",
    "z=log_model.predict(test_gearbox)"
   ]
  },
  {
   "cell_type": "code",
   "execution_count": 27,
   "id": "47f23b7a",
   "metadata": {},
   "outputs": [],
   "source": [
    "df.loc[nan_index , 'Gearbox'] = z"
   ]
  },
  {
   "cell_type": "markdown",
   "id": "c1375fe5",
   "metadata": {},
   "source": [
    "# Hand drive"
   ]
  },
  {
   "cell_type": "code",
   "execution_count": 28,
   "id": "bba99abb",
   "metadata": {},
   "outputs": [],
   "source": [
    "df['Hand drive'] = df['Hand drive'].apply(lambda x: x.strip() if isinstance(x, str) else x)\n",
    "body_style_counts = df['Hand drive'].value_counts()\n",
    "valuess_to_replace = body_style_counts[body_style_counts < 28].index\n",
    "df.loc[df['Hand drive'].isin(valuess_to_replace), 'Hand drive'] = np.nan"
   ]
  },
  {
   "cell_type": "code",
   "execution_count": 29,
   "id": "d32ac214",
   "metadata": {},
   "outputs": [],
   "source": [
    "def transform_valuee(value):\n",
    "    if value == 'Ձախ':\n",
    "        return 2\n",
    "    elif value == 'Աջ':\n",
    "        return 1\n",
    "    else:\n",
    "        return np.nan\n",
    "df['Hand drive'] = df['Hand drive'].apply(transform_valuee)"
   ]
  },
  {
   "cell_type": "code",
   "execution_count": 30,
   "id": "88b6b72e",
   "metadata": {},
   "outputs": [],
   "source": [
    "nan_index=df[df['Hand drive'].isna()].index\n",
    "pred_hand=df.loc[:,['Year','Make','Model','Hand drive']]"
   ]
  },
  {
   "cell_type": "code",
   "execution_count": 31,
   "id": "4593e84f",
   "metadata": {},
   "outputs": [],
   "source": [
    "encoded_column = encoder.fit_transform(pred_hand[['Make']])\n",
    "pred_hand['Make'] = encoded_column\n",
    "encoded_column = encoder.fit_transform(pred_hand[['Model']])\n",
    "pred_hand['Model'] = encoded_column"
   ]
  },
  {
   "cell_type": "code",
   "execution_count": 32,
   "id": "cf039a1b",
   "metadata": {},
   "outputs": [],
   "source": [
    "test_hand=pred_hand.loc[nan_index,['Year','Make','Model']]\n",
    "train_hand=pred_hand.drop(nan_index)"
   ]
  },
  {
   "cell_type": "code",
   "execution_count": 33,
   "id": "46800b3b",
   "metadata": {},
   "outputs": [],
   "source": [
    "from sklearn.ensemble import RandomForestClassifier\n",
    "log_model = RandomForestClassifier()\n",
    "log_model.fit(train_hand.drop('Hand drive',axis=1),train_hand['Hand drive'])\n",
    "k=log_model.predict(test_hand)"
   ]
  },
  {
   "cell_type": "code",
   "execution_count": 34,
   "id": "dc007c19",
   "metadata": {},
   "outputs": [],
   "source": [
    "df.loc[nan_index , 'Gearbox'] = k"
   ]
  },
  {
   "cell_type": "markdown",
   "id": "2c3a0b20",
   "metadata": {},
   "source": [
    "# improve engine"
   ]
  },
  {
   "cell_type": "code",
   "execution_count": 35,
   "id": "7ed5bb66",
   "metadata": {},
   "outputs": [],
   "source": [
    "df['Engine'] = df['Engine'].apply(lambda x: x.strip() if isinstance(x, str) else x)"
   ]
  },
  {
   "cell_type": "code",
   "execution_count": 36,
   "id": "cedc2f11",
   "metadata": {},
   "outputs": [],
   "source": [
    "body_style_counts = df['Engine'].value_counts()\n",
    "valuess_to_replace = body_style_counts[body_style_counts < 22].index\n",
    "df.loc[df['Engine'].isin(valuess_to_replace), 'Engine'] = np.nan"
   ]
  },
  {
   "cell_type": "code",
   "execution_count": 37,
   "id": "ad855e95",
   "metadata": {},
   "outputs": [],
   "source": [
    "encoded_column = encoder.fit_transform(df[['Engine']])+1\n",
    "df['Engine'] = encoded_column"
   ]
  },
  {
   "cell_type": "code",
   "execution_count": 38,
   "id": "5ebdbe86",
   "metadata": {},
   "outputs": [],
   "source": [
    "nan_index=df[df['Engine'].isna()].index\n",
    "pred_engine=df.loc[:,['Year','Make','Model','Engine']]"
   ]
  },
  {
   "cell_type": "code",
   "execution_count": 39,
   "id": "6cd27210",
   "metadata": {},
   "outputs": [],
   "source": [
    "encoded_column = encoder.fit_transform(pred_engine[['Make']])\n",
    "pred_engine['Make'] = encoded_column\n",
    "encoded_column = encoder.fit_transform(pred_engine[['Model']])\n",
    "pred_engine['Model'] = encoded_column"
   ]
  },
  {
   "cell_type": "code",
   "execution_count": 40,
   "id": "b0583cd2",
   "metadata": {},
   "outputs": [],
   "source": [
    "test_engin=pred_engine.loc[nan_index,['Year','Make','Model']]\n",
    "train_engin=pred_engine.drop(nan_index)"
   ]
  },
  {
   "cell_type": "code",
   "execution_count": 41,
   "id": "65a161ac",
   "metadata": {},
   "outputs": [],
   "source": [
    "from sklearn.ensemble import RandomForestClassifier\n",
    "log_model = RandomForestClassifier()\n",
    "log_model.fit(train_engin.drop('Engine',axis=1),train_engin['Engine'])\n",
    "l=log_model.predict(test_engin)"
   ]
  },
  {
   "cell_type": "code",
   "execution_count": 42,
   "id": "05f6fa56",
   "metadata": {},
   "outputs": [],
   "source": [
    "df.loc[nan_index , 'Gearbox'] = l"
   ]
  },
  {
   "cell_type": "markdown",
   "id": "9e617f45",
   "metadata": {},
   "source": [
    "# Encoding"
   ]
  },
  {
   "cell_type": "code",
   "execution_count": 43,
   "id": "cb8b8012",
   "metadata": {},
   "outputs": [],
   "source": [
    "# from sklearn.preprocessing import OrdinalEncoder\n",
    "# encoded_column = encoder.fit_transform(df[['Make']])\n",
    "# df['Make'] = encoded_column\n",
    "# encoded_column = encoder.fit_transform(df[['Model']])\n",
    "# df['Model'] = encoded_column\n",
    "# encoded_column = encoder.fit_transform(df[['Color']])\n",
    "# df['Color'] = encoded_column\n",
    "# encoded_column = encoder.fit_transform(df[['Custom cleared']])\n",
    "# df['Custom cleared'] = encoded_column\n",
    "df=df.drop('Color',axis=1)"
   ]
  },
  {
   "cell_type": "code",
   "execution_count": 44,
   "id": "9e68ec85",
   "metadata": {},
   "outputs": [],
   "source": [
    "from sklearn.preprocessing import OrdinalEncoder\n",
    "columns_to_encode = ['Make', 'Model','Custom cleared']\n",
    "df = pd.get_dummies(df, columns=columns_to_encode, prefix=columns_to_encode)"
   ]
  },
  {
   "cell_type": "markdown",
   "id": "1d774be0",
   "metadata": {},
   "source": [
    "# Drop Lines"
   ]
  },
  {
   "cell_type": "code",
   "execution_count": 45,
   "id": "383192ee",
   "metadata": {},
   "outputs": [],
   "source": [
    "# df=df.drop('Gearbox',axis=1)\n",
    "# df=df.drop(columns=['Body style','Gearbox','Hand drive','Engine'],axis=1)"
   ]
  },
  {
   "cell_type": "markdown",
   "id": "87516a88",
   "metadata": {},
   "source": [
    "# prediction"
   ]
  },
  {
   "cell_type": "code",
   "execution_count": 46,
   "id": "f186af86",
   "metadata": {},
   "outputs": [],
   "source": [
    "X=df.drop('Price',axis=1)\n",
    "y=df['Price']"
   ]
  },
  {
   "cell_type": "code",
   "execution_count": 47,
   "id": "56d5595a",
   "metadata": {},
   "outputs": [],
   "source": [
    "from sklearn.model_selection import train_test_split\n",
    "from sklearn.metrics import r2_score, mean_squared_error,mean_absolute_error\n",
    "from sklearn.model_selection import GridSearchCV\n",
    "X_train, X_test, y_train, y_test = train_test_split(X,y, test_size=0.2, random_state=51)"
   ]
  },
  {
   "cell_type": "code",
   "execution_count": 48,
   "id": "c7bf886b",
   "metadata": {},
   "outputs": [],
   "source": [
    "from sklearn.preprocessing import StandardScaler,MinMaxScaler\n",
    "scaler=MinMaxScaler()\n",
    "scaled_X_train = scaler.fit_transform(X_train)\n",
    "scaled_X_test = scaler.transform(X_test)"
   ]
  },
  {
   "cell_type": "code",
   "execution_count": 49,
   "id": "1067ba3e",
   "metadata": {},
   "outputs": [
    {
     "data": {
      "text/plain": [
       "(0.7516327111816534, 3320.992321721161)"
      ]
     },
     "execution_count": 49,
     "metadata": {},
     "output_type": "execute_result"
    }
   ],
   "source": [
    "from xgboost import XGBRegressor\n",
    "model=XGBRegressor(n_estimators=1000,max_depth=None,learning_rate=0.1)\n",
    "model.fit(X_train,y_train)\n",
    "XG_predict=model.predict(X_test)\n",
    "MAE = mean_absolute_error(XG_predict,y_test)\n",
    "1 - MAE / y_test.mean(),MAE"
   ]
  },
  {
   "cell_type": "code",
   "execution_count": null,
   "id": "57df7ddb",
   "metadata": {},
   "outputs": [],
   "source": [
    "\n"
   ]
  },
  {
   "cell_type": "code",
   "execution_count": null,
   "id": "28e609be",
   "metadata": {},
   "outputs": [],
   "source": []
  },
  {
   "cell_type": "code",
   "execution_count": 51,
   "id": "691a3f27",
   "metadata": {},
   "outputs": [],
   "source": [
    "# df.corr()"
   ]
  },
  {
   "cell_type": "code",
   "execution_count": 52,
   "id": "c1aa57e0",
   "metadata": {},
   "outputs": [
    {
     "data": {
      "text/html": [
       "<div>\n",
       "<style scoped>\n",
       "    .dataframe tbody tr th:only-of-type {\n",
       "        vertical-align: middle;\n",
       "    }\n",
       "\n",
       "    .dataframe tbody tr th {\n",
       "        vertical-align: top;\n",
       "    }\n",
       "\n",
       "    .dataframe thead th {\n",
       "        text-align: right;\n",
       "    }\n",
       "</style>\n",
       "<table border=\"1\" class=\"dataframe\">\n",
       "  <thead>\n",
       "    <tr style=\"text-align: right;\">\n",
       "      <th></th>\n",
       "      <th>Year</th>\n",
       "      <th>Mileage</th>\n",
       "      <th>Body style</th>\n",
       "      <th>Gearbox</th>\n",
       "      <th>Hand drive</th>\n",
       "      <th>Engine</th>\n",
       "      <th>Price</th>\n",
       "      <th>Make_Acura</th>\n",
       "      <th>Make_Alfa</th>\n",
       "      <th>Make_Aston</th>\n",
       "      <th>...</th>\n",
       "      <th>Model_XTS</th>\n",
       "      <th>Model_XV Crosstrek</th>\n",
       "      <th>Model_Yaris</th>\n",
       "      <th>Model_Zafira</th>\n",
       "      <th>Model_eNP1</th>\n",
       "      <th>Model_i3</th>\n",
       "      <th>Model_iD.6</th>\n",
       "      <th>Model_Այլ/Օther</th>\n",
       "      <th>Custom cleared_ Մաքսազերծված</th>\n",
       "      <th>Custom cleared_ մաքսազերծված չ</th>\n",
       "    </tr>\n",
       "  </thead>\n",
       "  <tbody>\n",
       "    <tr>\n",
       "      <th>0</th>\n",
       "      <td>2018</td>\n",
       "      <td>78859.465344</td>\n",
       "      <td>7.0</td>\n",
       "      <td>3.0</td>\n",
       "      <td>2.0</td>\n",
       "      <td>1.0</td>\n",
       "      <td>17500.000000</td>\n",
       "      <td>False</td>\n",
       "      <td>False</td>\n",
       "      <td>False</td>\n",
       "      <td>...</td>\n",
       "      <td>False</td>\n",
       "      <td>False</td>\n",
       "      <td>False</td>\n",
       "      <td>False</td>\n",
       "      <td>False</td>\n",
       "      <td>False</td>\n",
       "      <td>False</td>\n",
       "      <td>False</td>\n",
       "      <td>False</td>\n",
       "      <td>True</td>\n",
       "    </tr>\n",
       "    <tr>\n",
       "      <th>1</th>\n",
       "      <td>2019</td>\n",
       "      <td>17935.000000</td>\n",
       "      <td>7.0</td>\n",
       "      <td>3.0</td>\n",
       "      <td>2.0</td>\n",
       "      <td>1.0</td>\n",
       "      <td>15500.000000</td>\n",
       "      <td>False</td>\n",
       "      <td>False</td>\n",
       "      <td>False</td>\n",
       "      <td>...</td>\n",
       "      <td>False</td>\n",
       "      <td>False</td>\n",
       "      <td>False</td>\n",
       "      <td>False</td>\n",
       "      <td>False</td>\n",
       "      <td>False</td>\n",
       "      <td>False</td>\n",
       "      <td>False</td>\n",
       "      <td>False</td>\n",
       "      <td>True</td>\n",
       "    </tr>\n",
       "    <tr>\n",
       "      <th>2</th>\n",
       "      <td>2000</td>\n",
       "      <td>269000.000000</td>\n",
       "      <td>4.0</td>\n",
       "      <td>1.0</td>\n",
       "      <td>2.0</td>\n",
       "      <td>2.0</td>\n",
       "      <td>5754.418472</td>\n",
       "      <td>False</td>\n",
       "      <td>False</td>\n",
       "      <td>False</td>\n",
       "      <td>...</td>\n",
       "      <td>False</td>\n",
       "      <td>False</td>\n",
       "      <td>False</td>\n",
       "      <td>True</td>\n",
       "      <td>False</td>\n",
       "      <td>False</td>\n",
       "      <td>False</td>\n",
       "      <td>False</td>\n",
       "      <td>True</td>\n",
       "      <td>False</td>\n",
       "    </tr>\n",
       "    <tr>\n",
       "      <th>3</th>\n",
       "      <td>2018</td>\n",
       "      <td>71000.000000</td>\n",
       "      <td>7.0</td>\n",
       "      <td>3.0</td>\n",
       "      <td>2.0</td>\n",
       "      <td>1.0</td>\n",
       "      <td>22000.000000</td>\n",
       "      <td>False</td>\n",
       "      <td>False</td>\n",
       "      <td>False</td>\n",
       "      <td>...</td>\n",
       "      <td>False</td>\n",
       "      <td>False</td>\n",
       "      <td>False</td>\n",
       "      <td>False</td>\n",
       "      <td>False</td>\n",
       "      <td>False</td>\n",
       "      <td>False</td>\n",
       "      <td>False</td>\n",
       "      <td>True</td>\n",
       "      <td>False</td>\n",
       "    </tr>\n",
       "    <tr>\n",
       "      <th>4</th>\n",
       "      <td>2020</td>\n",
       "      <td>13240.073088</td>\n",
       "      <td>7.0</td>\n",
       "      <td>3.0</td>\n",
       "      <td>2.0</td>\n",
       "      <td>1.0</td>\n",
       "      <td>9100.000000</td>\n",
       "      <td>False</td>\n",
       "      <td>False</td>\n",
       "      <td>False</td>\n",
       "      <td>...</td>\n",
       "      <td>False</td>\n",
       "      <td>False</td>\n",
       "      <td>False</td>\n",
       "      <td>False</td>\n",
       "      <td>False</td>\n",
       "      <td>False</td>\n",
       "      <td>False</td>\n",
       "      <td>False</td>\n",
       "      <td>False</td>\n",
       "      <td>True</td>\n",
       "    </tr>\n",
       "    <tr>\n",
       "      <th>...</th>\n",
       "      <td>...</td>\n",
       "      <td>...</td>\n",
       "      <td>...</td>\n",
       "      <td>...</td>\n",
       "      <td>...</td>\n",
       "      <td>...</td>\n",
       "      <td>...</td>\n",
       "      <td>...</td>\n",
       "      <td>...</td>\n",
       "      <td>...</td>\n",
       "      <td>...</td>\n",
       "      <td>...</td>\n",
       "      <td>...</td>\n",
       "      <td>...</td>\n",
       "      <td>...</td>\n",
       "      <td>...</td>\n",
       "      <td>...</td>\n",
       "      <td>...</td>\n",
       "      <td>...</td>\n",
       "      <td>...</td>\n",
       "      <td>...</td>\n",
       "    </tr>\n",
       "    <tr>\n",
       "      <th>5728</th>\n",
       "      <td>2017</td>\n",
       "      <td>18736.000000</td>\n",
       "      <td>0.0</td>\n",
       "      <td>3.0</td>\n",
       "      <td>2.0</td>\n",
       "      <td>1.0</td>\n",
       "      <td>6100.000000</td>\n",
       "      <td>False</td>\n",
       "      <td>False</td>\n",
       "      <td>False</td>\n",
       "      <td>...</td>\n",
       "      <td>False</td>\n",
       "      <td>False</td>\n",
       "      <td>False</td>\n",
       "      <td>False</td>\n",
       "      <td>False</td>\n",
       "      <td>False</td>\n",
       "      <td>False</td>\n",
       "      <td>False</td>\n",
       "      <td>False</td>\n",
       "      <td>True</td>\n",
       "    </tr>\n",
       "    <tr>\n",
       "      <th>5729</th>\n",
       "      <td>2020</td>\n",
       "      <td>11265.408000</td>\n",
       "      <td>0.0</td>\n",
       "      <td>3.0</td>\n",
       "      <td>2.0</td>\n",
       "      <td>1.0</td>\n",
       "      <td>6500.000000</td>\n",
       "      <td>False</td>\n",
       "      <td>False</td>\n",
       "      <td>False</td>\n",
       "      <td>...</td>\n",
       "      <td>False</td>\n",
       "      <td>False</td>\n",
       "      <td>False</td>\n",
       "      <td>False</td>\n",
       "      <td>False</td>\n",
       "      <td>False</td>\n",
       "      <td>False</td>\n",
       "      <td>False</td>\n",
       "      <td>False</td>\n",
       "      <td>True</td>\n",
       "    </tr>\n",
       "    <tr>\n",
       "      <th>5730</th>\n",
       "      <td>2017</td>\n",
       "      <td>19934.000000</td>\n",
       "      <td>7.0</td>\n",
       "      <td>3.0</td>\n",
       "      <td>2.0</td>\n",
       "      <td>1.0</td>\n",
       "      <td>3800.000000</td>\n",
       "      <td>False</td>\n",
       "      <td>False</td>\n",
       "      <td>False</td>\n",
       "      <td>...</td>\n",
       "      <td>False</td>\n",
       "      <td>False</td>\n",
       "      <td>False</td>\n",
       "      <td>False</td>\n",
       "      <td>False</td>\n",
       "      <td>False</td>\n",
       "      <td>False</td>\n",
       "      <td>False</td>\n",
       "      <td>False</td>\n",
       "      <td>True</td>\n",
       "    </tr>\n",
       "    <tr>\n",
       "      <th>5731</th>\n",
       "      <td>2021</td>\n",
       "      <td>17935.000000</td>\n",
       "      <td>0.0</td>\n",
       "      <td>3.0</td>\n",
       "      <td>2.0</td>\n",
       "      <td>1.0</td>\n",
       "      <td>7300.000000</td>\n",
       "      <td>False</td>\n",
       "      <td>False</td>\n",
       "      <td>False</td>\n",
       "      <td>...</td>\n",
       "      <td>False</td>\n",
       "      <td>False</td>\n",
       "      <td>False</td>\n",
       "      <td>False</td>\n",
       "      <td>False</td>\n",
       "      <td>False</td>\n",
       "      <td>False</td>\n",
       "      <td>False</td>\n",
       "      <td>False</td>\n",
       "      <td>True</td>\n",
       "    </tr>\n",
       "    <tr>\n",
       "      <th>5732</th>\n",
       "      <td>2020</td>\n",
       "      <td>18374.000000</td>\n",
       "      <td>7.0</td>\n",
       "      <td>3.0</td>\n",
       "      <td>2.0</td>\n",
       "      <td>1.0</td>\n",
       "      <td>6200.000000</td>\n",
       "      <td>False</td>\n",
       "      <td>False</td>\n",
       "      <td>False</td>\n",
       "      <td>...</td>\n",
       "      <td>False</td>\n",
       "      <td>False</td>\n",
       "      <td>False</td>\n",
       "      <td>False</td>\n",
       "      <td>False</td>\n",
       "      <td>False</td>\n",
       "      <td>False</td>\n",
       "      <td>False</td>\n",
       "      <td>False</td>\n",
       "      <td>True</td>\n",
       "    </tr>\n",
       "  </tbody>\n",
       "</table>\n",
       "<p>5598 rows × 518 columns</p>\n",
       "</div>"
      ],
      "text/plain": [
       "      Year        Mileage  Body style  Gearbox  Hand drive  Engine  \\\n",
       "0     2018   78859.465344         7.0      3.0         2.0     1.0   \n",
       "1     2019   17935.000000         7.0      3.0         2.0     1.0   \n",
       "2     2000  269000.000000         4.0      1.0         2.0     2.0   \n",
       "3     2018   71000.000000         7.0      3.0         2.0     1.0   \n",
       "4     2020   13240.073088         7.0      3.0         2.0     1.0   \n",
       "...    ...            ...         ...      ...         ...     ...   \n",
       "5728  2017   18736.000000         0.0      3.0         2.0     1.0   \n",
       "5729  2020   11265.408000         0.0      3.0         2.0     1.0   \n",
       "5730  2017   19934.000000         7.0      3.0         2.0     1.0   \n",
       "5731  2021   17935.000000         0.0      3.0         2.0     1.0   \n",
       "5732  2020   18374.000000         7.0      3.0         2.0     1.0   \n",
       "\n",
       "             Price  Make_Acura  Make_Alfa  Make_Aston  ...  Model_XTS  \\\n",
       "0     17500.000000       False      False       False  ...      False   \n",
       "1     15500.000000       False      False       False  ...      False   \n",
       "2      5754.418472       False      False       False  ...      False   \n",
       "3     22000.000000       False      False       False  ...      False   \n",
       "4      9100.000000       False      False       False  ...      False   \n",
       "...            ...         ...        ...         ...  ...        ...   \n",
       "5728   6100.000000       False      False       False  ...      False   \n",
       "5729   6500.000000       False      False       False  ...      False   \n",
       "5730   3800.000000       False      False       False  ...      False   \n",
       "5731   7300.000000       False      False       False  ...      False   \n",
       "5732   6200.000000       False      False       False  ...      False   \n",
       "\n",
       "      Model_XV Crosstrek  Model_Yaris  Model_Zafira  Model_eNP1  Model_i3  \\\n",
       "0                  False        False         False       False     False   \n",
       "1                  False        False         False       False     False   \n",
       "2                  False        False          True       False     False   \n",
       "3                  False        False         False       False     False   \n",
       "4                  False        False         False       False     False   \n",
       "...                  ...          ...           ...         ...       ...   \n",
       "5728               False        False         False       False     False   \n",
       "5729               False        False         False       False     False   \n",
       "5730               False        False         False       False     False   \n",
       "5731               False        False         False       False     False   \n",
       "5732               False        False         False       False     False   \n",
       "\n",
       "      Model_iD.6  Model_Այլ/Օther  Custom cleared_ Մաքսազերծված  \\\n",
       "0          False            False                         False   \n",
       "1          False            False                         False   \n",
       "2          False            False                          True   \n",
       "3          False            False                          True   \n",
       "4          False            False                         False   \n",
       "...          ...              ...                           ...   \n",
       "5728       False            False                         False   \n",
       "5729       False            False                         False   \n",
       "5730       False            False                         False   \n",
       "5731       False            False                         False   \n",
       "5732       False            False                         False   \n",
       "\n",
       "      Custom cleared_ մաքսազերծված չ  \n",
       "0                               True  \n",
       "1                               True  \n",
       "2                              False  \n",
       "3                              False  \n",
       "4                               True  \n",
       "...                              ...  \n",
       "5728                            True  \n",
       "5729                            True  \n",
       "5730                            True  \n",
       "5731                            True  \n",
       "5732                            True  \n",
       "\n",
       "[5598 rows x 518 columns]"
      ]
     },
     "execution_count": 52,
     "metadata": {},
     "output_type": "execute_result"
    }
   ],
   "source": []
  },
  {
   "cell_type": "code",
   "execution_count": 58,
   "id": "d5912b32",
   "metadata": {},
   "outputs": [
    {
     "data": {
      "text/plain": [
       "array([' մաքսազերծված չ', ' Մաքսազերծված', nan], dtype=object)"
      ]
     },
     "execution_count": 58,
     "metadata": {},
     "output_type": "execute_result"
    }
   ],
   "source": [
    "df['Custom cleared'].unique()"
   ]
  },
  {
   "cell_type": "code",
   "execution_count": 56,
   "id": "24ab15c8",
   "metadata": {},
   "outputs": [
    {
     "data": {
      "text/html": [
       "<div>\n",
       "<style scoped>\n",
       "    .dataframe tbody tr th:only-of-type {\n",
       "        vertical-align: middle;\n",
       "    }\n",
       "\n",
       "    .dataframe tbody tr th {\n",
       "        vertical-align: top;\n",
       "    }\n",
       "\n",
       "    .dataframe thead th {\n",
       "        text-align: right;\n",
       "    }\n",
       "</style>\n",
       "<table border=\"1\" class=\"dataframe\">\n",
       "  <thead>\n",
       "    <tr style=\"text-align: right;\">\n",
       "      <th></th>\n",
       "      <th>Year</th>\n",
       "      <th>Make</th>\n",
       "      <th>Model</th>\n",
       "      <th>Mileage</th>\n",
       "      <th>Body style</th>\n",
       "      <th>Gearbox</th>\n",
       "      <th>Hand drive</th>\n",
       "      <th>Engine</th>\n",
       "      <th>Color</th>\n",
       "      <th>Custom cleared</th>\n",
       "      <th>Price</th>\n",
       "    </tr>\n",
       "  </thead>\n",
       "  <tbody>\n",
       "    <tr>\n",
       "      <th>0</th>\n",
       "      <td>2018</td>\n",
       "      <td>BMW</td>\n",
       "      <td>745</td>\n",
       "      <td>49001 մղոն</td>\n",
       "      <td>Սեդան</td>\n",
       "      <td>Ավտոմատ</td>\n",
       "      <td>Ձախ</td>\n",
       "      <td>Բենզին</td>\n",
       "      <td>Սպիտակ</td>\n",
       "      <td>մաքսազերծված չ</td>\n",
       "      <td>$ 17 500</td>\n",
       "    </tr>\n",
       "    <tr>\n",
       "      <th>1</th>\n",
       "      <td>2019</td>\n",
       "      <td>Tesla</td>\n",
       "      <td>Model 3</td>\n",
       "      <td>17935 կմ</td>\n",
       "      <td>Սեդան</td>\n",
       "      <td>Ավտոմատ</td>\n",
       "      <td>Ձախ</td>\n",
       "      <td>Բենզին</td>\n",
       "      <td>Սպիտակ</td>\n",
       "      <td>մաքսազերծված չ</td>\n",
       "      <td>$ 15 500</td>\n",
       "    </tr>\n",
       "    <tr>\n",
       "      <th>2</th>\n",
       "      <td>2000</td>\n",
       "      <td>Opel</td>\n",
       "      <td>Zafira</td>\n",
       "      <td>269000 կմ</td>\n",
       "      <td>Մինիվեն / Միկրոավտոբուս</td>\n",
       "      <td>Մեխանիկական</td>\n",
       "      <td>Ձախ</td>\n",
       "      <td>Գազ</td>\n",
       "      <td>Կապույտ</td>\n",
       "      <td>Մաքսազերծված</td>\n",
       "      <td>֏ 2 220 515</td>\n",
       "    </tr>\n",
       "    <tr>\n",
       "      <th>3</th>\n",
       "      <td>2018</td>\n",
       "      <td>Nissan</td>\n",
       "      <td>Maxima</td>\n",
       "      <td>71000 կմ</td>\n",
       "      <td>Սեդան</td>\n",
       "      <td>Ավտոմատ</td>\n",
       "      <td>Ձախ</td>\n",
       "      <td>Բենզին</td>\n",
       "      <td>Սպիտակ</td>\n",
       "      <td>Մաքսազերծված</td>\n",
       "      <td>$ 22 000</td>\n",
       "    </tr>\n",
       "    <tr>\n",
       "      <th>4</th>\n",
       "      <td>2020</td>\n",
       "      <td>Volkswagen</td>\n",
       "      <td>Jetta</td>\n",
       "      <td>8227 մղոն</td>\n",
       "      <td>Սեդան</td>\n",
       "      <td>Ավտոմատ</td>\n",
       "      <td>Ձախ</td>\n",
       "      <td>Բենզին</td>\n",
       "      <td>Սպիտակ</td>\n",
       "      <td>մաքսազերծված չ</td>\n",
       "      <td>$ 9 100</td>\n",
       "    </tr>\n",
       "    <tr>\n",
       "      <th>...</th>\n",
       "      <td>...</td>\n",
       "      <td>...</td>\n",
       "      <td>...</td>\n",
       "      <td>...</td>\n",
       "      <td>...</td>\n",
       "      <td>...</td>\n",
       "      <td>...</td>\n",
       "      <td>...</td>\n",
       "      <td>...</td>\n",
       "      <td>...</td>\n",
       "      <td>...</td>\n",
       "    </tr>\n",
       "    <tr>\n",
       "      <th>5728</th>\n",
       "      <td>2017</td>\n",
       "      <td>Toyota</td>\n",
       "      <td>Rav 4</td>\n",
       "      <td>18736 կմ</td>\n",
       "      <td>Ամենագնաց</td>\n",
       "      <td>Ավտոմատ</td>\n",
       "      <td>Ձախ</td>\n",
       "      <td>Բենզին</td>\n",
       "      <td>Սպիտակ</td>\n",
       "      <td>մաքսազերծված չ</td>\n",
       "      <td>$ 6 100</td>\n",
       "    </tr>\n",
       "    <tr>\n",
       "      <th>5729</th>\n",
       "      <td>2020</td>\n",
       "      <td>Nissan</td>\n",
       "      <td>Rogue</td>\n",
       "      <td>7000 մղոն</td>\n",
       "      <td>Ամենագնաց</td>\n",
       "      <td>Ավտոմատ</td>\n",
       "      <td>Ձախ</td>\n",
       "      <td>Բենզին</td>\n",
       "      <td>Մոխրագույն</td>\n",
       "      <td>մաքսազերծված չ</td>\n",
       "      <td>$ 6 500</td>\n",
       "    </tr>\n",
       "    <tr>\n",
       "      <th>5730</th>\n",
       "      <td>2017</td>\n",
       "      <td>Mazda</td>\n",
       "      <td>6</td>\n",
       "      <td>19934 կմ</td>\n",
       "      <td>Սեդան</td>\n",
       "      <td>Ավտոմատ</td>\n",
       "      <td>Ձախ</td>\n",
       "      <td>Բենզին</td>\n",
       "      <td>Արծաթագույն</td>\n",
       "      <td>մաքսազերծված չ</td>\n",
       "      <td>$ 3 800</td>\n",
       "    </tr>\n",
       "    <tr>\n",
       "      <th>5731</th>\n",
       "      <td>2021</td>\n",
       "      <td>Ford</td>\n",
       "      <td>Escape</td>\n",
       "      <td>17935 կմ</td>\n",
       "      <td>Ամենագնաց</td>\n",
       "      <td>Ավտոմատ</td>\n",
       "      <td>Ձախ</td>\n",
       "      <td>Բենզին</td>\n",
       "      <td>Սև</td>\n",
       "      <td>մաքսազերծված չ</td>\n",
       "      <td>$ 7 300</td>\n",
       "    </tr>\n",
       "    <tr>\n",
       "      <th>5732</th>\n",
       "      <td>2020</td>\n",
       "      <td>Toyota</td>\n",
       "      <td>Corolla</td>\n",
       "      <td>18374 կմ</td>\n",
       "      <td>Սեդան</td>\n",
       "      <td>Ավտոմատ</td>\n",
       "      <td>Ձախ</td>\n",
       "      <td>Բենզին</td>\n",
       "      <td>Սև</td>\n",
       "      <td>մաքսազերծված չ</td>\n",
       "      <td>$ 6 200</td>\n",
       "    </tr>\n",
       "  </tbody>\n",
       "</table>\n",
       "<p>5598 rows × 11 columns</p>\n",
       "</div>"
      ],
      "text/plain": [
       "      Year        Make    Model      Mileage                Body style  \\\n",
       "0     2018         BMW      745  49001 մղոն                      Սեդան   \n",
       "1     2019       Tesla  Model 3    17935 կմ                      Սեդան   \n",
       "2     2000        Opel   Zafira   269000 կմ    Մինիվեն / Միկրոավտոբուս   \n",
       "3     2018      Nissan   Maxima    71000 կմ                      Սեդան   \n",
       "4     2020  Volkswagen    Jetta   8227 մղոն                      Սեդան   \n",
       "...    ...         ...      ...          ...                       ...   \n",
       "5728  2017      Toyota    Rav 4    18736 կմ                  Ամենագնաց   \n",
       "5729  2020      Nissan    Rogue   7000 մղոն                  Ամենագնաց   \n",
       "5730  2017       Mazda        6    19934 կմ                      Սեդան   \n",
       "5731  2021        Ford   Escape    17935 կմ                  Ամենագնաց   \n",
       "5732  2020      Toyota  Corolla    18374 կմ                      Սեդան   \n",
       "\n",
       "           Gearbox Hand drive   Engine         Color   Custom cleared  \\\n",
       "0          Ավտոմատ        Ձախ   Բենզին        Սպիտակ   մաքսազերծված չ   \n",
       "1          Ավտոմատ        Ձախ   Բենզին        Սպիտակ   մաքսազերծված չ   \n",
       "2      Մեխանիկական        Ձախ      Գազ       Կապույտ     Մաքսազերծված   \n",
       "3          Ավտոմատ        Ձախ   Բենզին        Սպիտակ     Մաքսազերծված   \n",
       "4          Ավտոմատ        Ձախ   Բենզին        Սպիտակ   մաքսազերծված չ   \n",
       "...            ...        ...      ...           ...              ...   \n",
       "5728       Ավտոմատ        Ձախ   Բենզին        Սպիտակ   մաքսազերծված չ   \n",
       "5729       Ավտոմատ        Ձախ   Բենզին    Մոխրագույն   մաքսազերծված չ   \n",
       "5730       Ավտոմատ        Ձախ   Բենզին   Արծաթագույն   մաքսազերծված չ   \n",
       "5731       Ավտոմատ        Ձախ   Բենզին            Սև   մաքսազերծված չ   \n",
       "5732       Ավտոմատ        Ձախ   Բենզին            Սև   մաքսազերծված չ   \n",
       "\n",
       "            Price  \n",
       "0        $ 17 500  \n",
       "1        $ 15 500  \n",
       "2     ֏ 2 220 515  \n",
       "3        $ 22 000  \n",
       "4         $ 9 100  \n",
       "...           ...  \n",
       "5728      $ 6 100  \n",
       "5729      $ 6 500  \n",
       "5730      $ 3 800  \n",
       "5731      $ 7 300  \n",
       "5732      $ 6 200  \n",
       "\n",
       "[5598 rows x 11 columns]"
      ]
     },
     "execution_count": 56,
     "metadata": {},
     "output_type": "execute_result"
    }
   ],
   "source": [
    "df"
   ]
  },
  {
   "cell_type": "code",
   "execution_count": null,
   "id": "bca25522",
   "metadata": {},
   "outputs": [],
   "source": []
  },
  {
   "cell_type": "code",
   "execution_count": null,
   "id": "be615070",
   "metadata": {},
   "outputs": [],
   "source": []
  },
  {
   "cell_type": "code",
   "execution_count": null,
   "id": "aea39563",
   "metadata": {},
   "outputs": [],
   "source": []
  },
  {
   "cell_type": "code",
   "execution_count": null,
   "id": "15b7f943",
   "metadata": {},
   "outputs": [],
   "source": []
  },
  {
   "cell_type": "code",
   "execution_count": null,
   "id": "b545101c",
   "metadata": {},
   "outputs": [],
   "source": []
  },
  {
   "cell_type": "code",
   "execution_count": null,
   "id": "f50c665c",
   "metadata": {},
   "outputs": [],
   "source": []
  }
 ],
 "metadata": {
  "kernelspec": {
   "display_name": "Python 3 (ipykernel)",
   "language": "python",
   "name": "python3"
  },
  "language_info": {
   "codemirror_mode": {
    "name": "ipython",
    "version": 3
   },
   "file_extension": ".py",
   "mimetype": "text/x-python",
   "name": "python",
   "nbconvert_exporter": "python",
   "pygments_lexer": "ipython3",
   "version": "3.11.2"
  }
 },
 "nbformat": 4,
 "nbformat_minor": 5
}
